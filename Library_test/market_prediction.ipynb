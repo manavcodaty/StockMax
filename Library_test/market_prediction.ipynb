{
 "cells": [
  {
   "cell_type": "code",
   "execution_count": null,
   "id": "6c7a9f4e",
   "metadata": {},
   "outputs": [],
   "source": [
    "import os\n",
    "import yfinance as yf\n",
    "import pandas as pd"
   ]
  },
  {
   "cell_type": "code",
   "execution_count": null,
   "id": "b9239dc9",
   "metadata": {},
   "outputs": [],
   "source": []
  },
  {
   "cell_type": "code",
   "execution_count": 32,
   "id": "0c4d2b51-1187-44c7-a281-da84d0381dd5",
   "metadata": {},
   "outputs": [],
   "source": [
    "if os.path.exists(\"sp500.csv\"):\n",
    "    sp500 = pd.read_csv(\"sp500.csv\", index_col=0)\n",
    "else:\n",
    "    sp500 = yf.Ticker(\"^GSPC\")\n",
    "    sp500 = sp500.history(period=\"max\")\n",
    "    sp500.to_csv(\"sp500.csv\")"
   ]
  },
  {
   "cell_type": "code",
   "execution_count": 33,
   "id": "f605b43c-8db9-43ae-b2d4-29fc6048b8aa",
   "metadata": {},
   "outputs": [],
   "source": [
    "sp500.index = pd.to_datetime(sp500.index)"
   ]
  },
  {
   "cell_type": "code",
   "execution_count": 34,
   "id": "fbb162ce-7d18-4c14-b349-9014c0d6db42",
   "metadata": {},
   "outputs": [
    {
     "data": {
      "text/html": [
       "<div>\n",
       "<style scoped>\n",
       "    .dataframe tbody tr th:only-of-type {\n",
       "        vertical-align: middle;\n",
       "    }\n",
       "\n",
       "    .dataframe tbody tr th {\n",
       "        vertical-align: top;\n",
       "    }\n",
       "\n",
       "    .dataframe thead th {\n",
       "        text-align: right;\n",
       "    }\n",
       "</style>\n",
       "<table border=\"1\" class=\"dataframe\">\n",
       "  <thead>\n",
       "    <tr style=\"text-align: right;\">\n",
       "      <th></th>\n",
       "      <th>Open</th>\n",
       "      <th>High</th>\n",
       "      <th>Low</th>\n",
       "      <th>Close</th>\n",
       "      <th>Volume</th>\n",
       "      <th>Dividends</th>\n",
       "      <th>Stock Splits</th>\n",
       "    </tr>\n",
       "    <tr>\n",
       "      <th>Date</th>\n",
       "      <th></th>\n",
       "      <th></th>\n",
       "      <th></th>\n",
       "      <th></th>\n",
       "      <th></th>\n",
       "      <th></th>\n",
       "      <th></th>\n",
       "    </tr>\n",
       "  </thead>\n",
       "  <tbody>\n",
       "    <tr>\n",
       "      <th>1950-01-03</th>\n",
       "      <td>16.660000</td>\n",
       "      <td>16.660000</td>\n",
       "      <td>16.660000</td>\n",
       "      <td>16.660000</td>\n",
       "      <td>1260000</td>\n",
       "      <td>0</td>\n",
       "      <td>0</td>\n",
       "    </tr>\n",
       "    <tr>\n",
       "      <th>1950-01-04</th>\n",
       "      <td>16.850000</td>\n",
       "      <td>16.850000</td>\n",
       "      <td>16.850000</td>\n",
       "      <td>16.850000</td>\n",
       "      <td>1890000</td>\n",
       "      <td>0</td>\n",
       "      <td>0</td>\n",
       "    </tr>\n",
       "    <tr>\n",
       "      <th>1950-01-05</th>\n",
       "      <td>16.930000</td>\n",
       "      <td>16.930000</td>\n",
       "      <td>16.930000</td>\n",
       "      <td>16.930000</td>\n",
       "      <td>2550000</td>\n",
       "      <td>0</td>\n",
       "      <td>0</td>\n",
       "    </tr>\n",
       "    <tr>\n",
       "      <th>1950-01-06</th>\n",
       "      <td>16.980000</td>\n",
       "      <td>16.980000</td>\n",
       "      <td>16.980000</td>\n",
       "      <td>16.980000</td>\n",
       "      <td>2010000</td>\n",
       "      <td>0</td>\n",
       "      <td>0</td>\n",
       "    </tr>\n",
       "    <tr>\n",
       "      <th>1950-01-09</th>\n",
       "      <td>17.080000</td>\n",
       "      <td>17.080000</td>\n",
       "      <td>17.080000</td>\n",
       "      <td>17.080000</td>\n",
       "      <td>2520000</td>\n",
       "      <td>0</td>\n",
       "      <td>0</td>\n",
       "    </tr>\n",
       "    <tr>\n",
       "      <th>...</th>\n",
       "      <td>...</td>\n",
       "      <td>...</td>\n",
       "      <td>...</td>\n",
       "      <td>...</td>\n",
       "      <td>...</td>\n",
       "      <td>...</td>\n",
       "      <td>...</td>\n",
       "    </tr>\n",
       "    <tr>\n",
       "      <th>2022-09-06</th>\n",
       "      <td>3930.889893</td>\n",
       "      <td>3942.550049</td>\n",
       "      <td>3886.750000</td>\n",
       "      <td>3908.189941</td>\n",
       "      <td>2209800080</td>\n",
       "      <td>0</td>\n",
       "      <td>0</td>\n",
       "    </tr>\n",
       "    <tr>\n",
       "      <th>2022-09-07</th>\n",
       "      <td>3909.429932</td>\n",
       "      <td>3987.889893</td>\n",
       "      <td>3906.030029</td>\n",
       "      <td>3979.870117</td>\n",
       "      <td>0</td>\n",
       "      <td>0</td>\n",
       "      <td>0</td>\n",
       "    </tr>\n",
       "    <tr>\n",
       "      <th>2022-09-08</th>\n",
       "      <td>3959.939941</td>\n",
       "      <td>4010.500000</td>\n",
       "      <td>3944.810059</td>\n",
       "      <td>4006.179932</td>\n",
       "      <td>0</td>\n",
       "      <td>0</td>\n",
       "      <td>0</td>\n",
       "    </tr>\n",
       "    <tr>\n",
       "      <th>2022-09-09</th>\n",
       "      <td>4022.939941</td>\n",
       "      <td>4076.810059</td>\n",
       "      <td>4022.939941</td>\n",
       "      <td>4067.360107</td>\n",
       "      <td>0</td>\n",
       "      <td>0</td>\n",
       "      <td>0</td>\n",
       "    </tr>\n",
       "    <tr>\n",
       "      <th>2022-09-12</th>\n",
       "      <td>4083.669922</td>\n",
       "      <td>4119.279785</td>\n",
       "      <td>4083.669922</td>\n",
       "      <td>4107.279785</td>\n",
       "      <td>1602969000</td>\n",
       "      <td>0</td>\n",
       "      <td>0</td>\n",
       "    </tr>\n",
       "  </tbody>\n",
       "</table>\n",
       "<p>18292 rows × 7 columns</p>\n",
       "</div>"
      ],
      "text/plain": [
       "                   Open         High          Low        Close      Volume  \\\n",
       "Date                                                                         \n",
       "1950-01-03    16.660000    16.660000    16.660000    16.660000     1260000   \n",
       "1950-01-04    16.850000    16.850000    16.850000    16.850000     1890000   \n",
       "1950-01-05    16.930000    16.930000    16.930000    16.930000     2550000   \n",
       "1950-01-06    16.980000    16.980000    16.980000    16.980000     2010000   \n",
       "1950-01-09    17.080000    17.080000    17.080000    17.080000     2520000   \n",
       "...                 ...          ...          ...          ...         ...   \n",
       "2022-09-06  3930.889893  3942.550049  3886.750000  3908.189941  2209800080   \n",
       "2022-09-07  3909.429932  3987.889893  3906.030029  3979.870117           0   \n",
       "2022-09-08  3959.939941  4010.500000  3944.810059  4006.179932           0   \n",
       "2022-09-09  4022.939941  4076.810059  4022.939941  4067.360107           0   \n",
       "2022-09-12  4083.669922  4119.279785  4083.669922  4107.279785  1602969000   \n",
       "\n",
       "            Dividends  Stock Splits  \n",
       "Date                                 \n",
       "1950-01-03          0             0  \n",
       "1950-01-04          0             0  \n",
       "1950-01-05          0             0  \n",
       "1950-01-06          0             0  \n",
       "1950-01-09          0             0  \n",
       "...               ...           ...  \n",
       "2022-09-06          0             0  \n",
       "2022-09-07          0             0  \n",
       "2022-09-08          0             0  \n",
       "2022-09-09          0             0  \n",
       "2022-09-12          0             0  \n",
       "\n",
       "[18292 rows x 7 columns]"
      ]
     },
     "execution_count": 34,
     "metadata": {},
     "output_type": "execute_result"
    }
   ],
   "source": [
    "sp500"
   ]
  },
  {
   "cell_type": "code",
   "execution_count": 35,
   "id": "3e7ddd5b-9c2d-4c13-8210-72a4adb61159",
   "metadata": {},
   "outputs": [
    {
     "data": {
      "text/plain": [
       "<Axes: xlabel='Date'>"
      ]
     },
     "execution_count": 35,
     "metadata": {},
     "output_type": "execute_result"
    },
    {
     "data": {
      "image/png": "[encoded data removed]",
      "text/plain": [
       "<Figure size 640x480 with 1 Axes>"
      ]
     },
     "metadata": {},
     "output_type": "display_data"
    }
   ],
   "source": [
    "sp500.plot.line(y=\"Close\", use_index=True)"
   ]
  },
  {
   "cell_type": "code",
   "execution_count": 36,
   "id": "1b02b64d-9eef-489f-894d-26f9e6792db5",
   "metadata": {},
   "outputs": [],
   "source": [
    "del sp500[\"Dividends\"]\n",
    "del sp500[\"Stock Splits\"]"
   ]
  },
  {
   "cell_type": "code",
   "execution_count": 37,
   "id": "f25e1594-1cd2-47ae-bb50-a0d17ac35c69",
   "metadata": {},
   "outputs": [],
   "source": [
    "sp500[\"Tomorrow\"] = sp500[\"Close\"].shift(-1)"
   ]
  },
  {
   "cell_type": "code",
   "execution_count": 38,
   "id": "871b16a1-9d77-40c8-8564-1947b438a113",
   "metadata": {},
   "outputs": [],
   "source": [
    "sp500[\"Target\"] = (sp500[\"Tomorrow\"] > sp500[\"Close\"]).astype(int)"
   ]
  },
  {
   "cell_type": "code",
   "execution_count": 39,
   "id": "79e58626-3be6-45f7-b1aa-1786593e3bd6",
   "metadata": {},
   "outputs": [],
   "source": [
    "sp500 = sp500.loc[\"1990-01-01\":].copy()"
   ]
  },
  {
   "cell_type": "code",
   "execution_count": 40,
   "id": "ad95d689-520a-4141-ab6e-a0fe3f9697a6",
   "metadata": {},
   "outputs": [
    {
     "data": {
      "text/html": [
       "<style>#sk-container-id-2 {color: black;}#sk-container-id-2 pre{padding: 0;}#sk-container-id-2 div.sk-toggleable {background-color: white;}#sk-container-id-2 label.sk-toggleable__label {cursor: pointer;display: block;width: 100%;margin-bottom: 0;padding: 0.3em;box-sizing: border-box;text-align: center;}#sk-container-id-2 label.sk-toggleable__label-arrow:before {content: \"▸\";float: left;margin-right: 0.25em;color: #696969;}#sk-container-id-2 label.sk-toggleable__label-arrow:hover:before {color: black;}#sk-container-id-2 div.sk-estimator:hover label.sk-toggleable__label-arrow:before {color: black;}#sk-container-id-2 div.sk-toggleable__content {max-height: 0;max-width: 0;overflow: hidden;text-align: left;background-color: #f0f8ff;}#sk-container-id-2 div.sk-toggleable__content pre {margin: 0.2em;color: black;border-radius: 0.25em;background-color: #f0f8ff;}#sk-container-id-2 input.sk-toggleable__control:checked~div.sk-toggleable__content {max-height: 200px;max-width: 100%;overflow: auto;}#sk-container-id-2 input.sk-toggleable__control:checked~label.sk-toggleable__label-arrow:before {content: \"▾\";}#sk-container-id-2 div.sk-estimator input.sk-toggleable__control:checked~label.sk-toggleable__label {background-color: #d4ebff;}#sk-container-id-2 div.sk-label input.sk-toggleable__control:checked~label.sk-toggleable__label {background-color: #d4ebff;}#sk-container-id-2 input.sk-hidden--visually {border: 0;clip: rect(1px 1px 1px 1px);clip: rect(1px, 1px, 1px, 1px);height: 1px;margin: -1px;overflow: hidden;padding: 0;position: absolute;width: 1px;}#sk-container-id-2 div.sk-estimator {font-family: monospace;background-color: #f0f8ff;border: 1px dotted black;border-radius: 0.25em;box-sizing: border-box;margin-bottom: 0.5em;}#sk-container-id-2 div.sk-estimator:hover {background-color: #d4ebff;}#sk-container-id-2 div.sk-parallel-item::after {content: \"\";width: 100%;border-bottom: 1px solid gray;flex-grow: 1;}#sk-container-id-2 div.sk-label:hover label.sk-toggleable__label {background-color: #d4ebff;}#sk-container-id-2 div.sk-serial::before {content: \"\";position: absolute;border-left: 1px solid gray;box-sizing: border-box;top: 0;bottom: 0;left: 50%;z-index: 0;}#sk-container-id-2 div.sk-serial {display: flex;flex-direction: column;align-items: center;background-color: white;padding-right: 0.2em;padding-left: 0.2em;position: relative;}#sk-container-id-2 div.sk-item {position: relative;z-index: 1;}#sk-container-id-2 div.sk-parallel {display: flex;align-items: stretch;justify-content: center;background-color: white;position: relative;}#sk-container-id-2 div.sk-item::before, #sk-container-id-2 div.sk-parallel-item::before {content: \"\";position: absolute;border-left: 1px solid gray;box-sizing: border-box;top: 0;bottom: 0;left: 50%;z-index: -1;}#sk-container-id-2 div.sk-parallel-item {display: flex;flex-direction: column;z-index: 1;position: relative;background-color: white;}#sk-container-id-2 div.sk-parallel-item:first-child::after {align-self: flex-end;width: 50%;}#sk-container-id-2 div.sk-parallel-item:last-child::after {align-self: flex-start;width: 50%;}#sk-container-id-2 div.sk-parallel-item:only-child::after {width: 0;}#sk-container-id-2 div.sk-dashed-wrapped {border: 1px dashed gray;margin: 0 0.4em 0.5em 0.4em;box-sizing: border-box;padding-bottom: 0.4em;background-color: white;}#sk-container-id-2 div.sk-label label {font-family: monospace;font-weight: bold;display: inline-block;line-height: 1.2em;}#sk-container-id-2 div.sk-label-container {text-align: center;}#sk-container-id-2 div.sk-container {/* jupyter's `normalize.less` sets `[hidden] { display: none; }` but bootstrap.min.css set `[hidden] { display: none !important; }` so we also need the `!important` here to be able to override the default hidden behavior on the sphinx rendered scikit-learn.org. See: https://github.com/scikit-learn/scikit-learn/issues/21755 */display: inline-block !important;position: relative;}#sk-container-id-2 div.sk-text-repr-fallback {display: none;}</style><div id=\"sk-container-id-2\" class=\"sk-top-container\"><div class=\"sk-text-repr-fallback\"><pre>RandomForestClassifier(min_samples_split=100, random_state=1)</pre><b>In a Jupyter environment, please rerun this cell to show the HTML representation or trust the notebook. <br />On GitHub, the HTML representation is unable to render, please try loading this page with nbviewer.org.</b></div><div class=\"sk-container\" hidden><div class=\"sk-item\"><div class=\"sk-estimator sk-toggleable\"><input class=\"sk-toggleable__control sk-hidden--visually\" id=\"sk-estimator-id-2\" type=\"checkbox\" checked><label for=\"sk-estimator-id-2\" class=\"sk-toggleable__label sk-toggleable__label-arrow\">RandomForestClassifier</label><div class=\"sk-toggleable__content\"><pre>RandomForestClassifier(min_samples_split=100, random_state=1)</pre></div></div></div></div></div>"
      ],
      "text/plain": [
       "RandomForestClassifier(min_samples_split=100, random_state=1)"
      ]
     },
     "execution_count": 40,
     "metadata": {},
     "output_type": "execute_result"
    }
   ],
   "source": [
    "from sklearn.ensemble import RandomForestClassifier\n",
    "\n",
    "model = RandomForestClassifier(n_estimators=100, min_samples_split=100, random_state=1)\n",
    "\n",
    "train = sp500.iloc[:-100]\n",
    "test = sp500.iloc[-100:]\n",
    "\n",
    "predictors = [\"Close\", \"Volume\", \"Open\", \"High\", \"Low\"]\n",
    "model.fit(train[predictors], train[\"Target\"])"
   ]
  },
  {
   "cell_type": "code",
   "execution_count": 41,
   "id": "c0837787-5d4e-4a20-ad0d-3a546bc23cdb",
   "metadata": {},
   "outputs": [
    {
     "data": {
      "text/plain": [
       "0.47058823529411764"
      ]
     },
     "execution_count": 41,
     "metadata": {},
     "output_type": "execute_result"
    }
   ],
   "source": [
    "from sklearn.metrics import precision_score\n",
    "\n",
    "preds = model.predict(test[predictors])\n",
    "preds = pd.Series(preds, index=test.index)\n",
    "precision_score(test[\"Target\"], preds)"
   ]
  },
  {
   "cell_type": "code",
   "execution_count": 42,
   "id": "e33e349f-8365-4282-91db-3b5824e83262",
   "metadata": {},
   "outputs": [
    {
     "data": {
      "text/plain": [
       "<Axes: xlabel='Date'>"
      ]
     },
     "execution_count": 42,
     "metadata": {},
     "output_type": "execute_result"
    },
    {
     "data": {
      "image/png": "[encoded data removed]",
      "text/plain": [
       "<Figure size 640x480 with 1 Axes>"
      ]
     },
     "metadata": {},
     "output_type": "display_data"
    }
   ],
   "source": [
    "combined = pd.concat([test[\"Target\"], preds], axis=1)\n",
    "combined.plot()"
   ]
  },
  {
   "cell_type": "code",
   "execution_count": 43,
   "id": "d4049497-0ee7-4399-83ab-ef61ccf71133",
   "metadata": {},
   "outputs": [],
   "source": [
    "def predict(train, test, predictors, model):\n",
    "    model.fit(train[predictors], train[\"Target\"])\n",
    "    preds = model.predict(test[predictors])\n",
    "    preds = pd.Series(preds, index=test.index, name=\"Predictions\")\n",
    "    combined = pd.concat([test[\"Target\"], preds], axis=1)\n",
    "    return combined"
   ]
  },
  {
   "cell_type": "code",
   "execution_count": 44,
   "id": "ca97d93a-6841-49ef-8f91-25a713baef16",
   "metadata": {},
   "outputs": [],
   "source": [
    "def backtest(data, model, predictors, start=2500, step=250):\n",
    "    all_predictions = []\n",
    "\n",
    "    for i in range(start, data.shape[0], step):\n",
    "        train = data.iloc[0:i].copy()\n",
    "        test = data.iloc[i:(i+step)].copy()\n",
    "        predictions = predict(train, test, predictors, model)\n",
    "        all_predictions.append(predictions)\n",
    "    \n",
    "    return pd.concat(all_predictions)"
   ]
  },
  {
   "cell_type": "code",
   "execution_count": 45,
   "id": "8a75261f-d2de-4bc6-9364-54d520c63985",
   "metadata": {},
   "outputs": [],
   "source": [
    "predictions = backtest(sp500, model, predictors)"
   ]
  },
  {
   "cell_type": "code",
   "execution_count": 46,
   "id": "439d8704-c55d-4d1f-a709-acdc0f485e87",
   "metadata": {},
   "outputs": [
    {
     "data": {
      "text/plain": [
       "Predictions\n",
       "0    3337\n",
       "1    2401\n",
       "Name: count, dtype: int64"
      ]
     },
     "execution_count": 46,
     "metadata": {},
     "output_type": "execute_result"
    }
   ],
   "source": [
    "predictions[\"Predictions\"].value_counts()"
   ]
  },
  {
   "cell_type": "code",
   "execution_count": 47,
   "id": "bf105e8f-6be5-4494-9658-233761f1c4f4",
   "metadata": {},
   "outputs": [
    {
     "data": {
      "text/plain": [
       "0.534777176176593"
      ]
     },
     "execution_count": 47,
     "metadata": {},
     "output_type": "execute_result"
    }
   ],
   "source": [
    "precision_score(predictions[\"Target\"], predictions[\"Predictions\"])"
   ]
  },
  {
   "cell_type": "code",
   "execution_count": 48,
   "id": "eff25a20-375e-444a-b5d3-b558753fc817",
   "metadata": {},
   "outputs": [
    {
     "data": {
      "text/plain": [
       "Target\n",
       "1    0.536075\n",
       "0    0.463925\n",
       "Name: count, dtype: float64"
      ]
     },
     "execution_count": 48,
     "metadata": {},
     "output_type": "execute_result"
    }
   ],
   "source": [
    "predictions[\"Target\"].value_counts() / predictions.shape[0]"
   ]
  },
  {
   "cell_type": "code",
   "execution_count": 49,
   "id": "ed05ece5-f1f4-443a-b179-33c7e709ea4d",
   "metadata": {},
   "outputs": [],
   "source": [
    "horizons = [2,5,60,250,1000]\n",
    "new_predictors = []\n",
    "\n",
    "for horizon in horizons:\n",
    "    rolling_averages = sp500.rolling(horizon).mean()\n",
    "    \n",
    "    ratio_column = f\"Close_Ratio_{horizon}\"\n",
    "    sp500[ratio_column] = sp500[\"Close\"] / rolling_averages[\"Close\"]\n",
    "    \n",
    "    trend_column = f\"Trend_{horizon}\"\n",
    "    sp500[trend_column] = sp500.shift(1).rolling(horizon).sum()[\"Target\"]\n",
    "    \n",
    "    new_predictors+= [ratio_column, trend_column]"
   ]
  },
  {
   "cell_type": "code",
   "execution_count": 50,
   "id": "6c04ab2d-64ff-4f56-a206-605dcce30372",
   "metadata": {},
   "outputs": [],
   "source": [
    "sp500 = sp500.dropna(subset=sp500.columns[sp500.columns != \"Tomorrow\"])"
   ]
  },
  {
   "cell_type": "code",
   "execution_count": 51,
   "id": "fd7b2523-85a4-477d-975d-9cf64b1ff557",
   "metadata": {},
   "outputs": [
    {
     "data": {
      "text/html": [
       "<div>\n",
       "<style scoped>\n",
       "    .dataframe tbody tr th:only-of-type {\n",
       "        vertical-align: middle;\n",
       "    }\n",
       "\n",
       "    .dataframe tbody tr th {\n",
       "        vertical-align: top;\n",
       "    }\n",
       "\n",
       "    .dataframe thead th {\n",
       "        text-align: right;\n",
       "    }\n",
       "</style>\n",
       "<table border=\"1\" class=\"dataframe\">\n",
       "  <thead>\n",
       "    <tr style=\"text-align: right;\">\n",
       "      <th></th>\n",
       "      <th>Open</th>\n",
       "      <th>High</th>\n",
       "      <th>Low</th>\n",
       "      <th>Close</th>\n",
       "      <th>Volume</th>\n",
       "      <th>Tomorrow</th>\n",
       "      <th>Target</th>\n",
       "      <th>Close_Ratio_2</th>\n",
       "      <th>Trend_2</th>\n",
       "      <th>Close_Ratio_5</th>\n",
       "      <th>Trend_5</th>\n",
       "      <th>Close_Ratio_60</th>\n",
       "      <th>Trend_60</th>\n",
       "      <th>Close_Ratio_250</th>\n",
       "      <th>Trend_250</th>\n",
       "      <th>Close_Ratio_1000</th>\n",
       "      <th>Trend_1000</th>\n",
       "    </tr>\n",
       "    <tr>\n",
       "      <th>Date</th>\n",
       "      <th></th>\n",
       "      <th></th>\n",
       "      <th></th>\n",
       "      <th></th>\n",
       "      <th></th>\n",
       "      <th></th>\n",
       "      <th></th>\n",
       "      <th></th>\n",
       "      <th></th>\n",
       "      <th></th>\n",
       "      <th></th>\n",
       "      <th></th>\n",
       "      <th></th>\n",
       "      <th></th>\n",
       "      <th></th>\n",
       "      <th></th>\n",
       "      <th></th>\n",
       "    </tr>\n",
       "  </thead>\n",
       "  <tbody>\n",
       "    <tr>\n",
       "      <th>1993-12-14</th>\n",
       "      <td>465.730011</td>\n",
       "      <td>466.119995</td>\n",
       "      <td>462.459991</td>\n",
       "      <td>463.059998</td>\n",
       "      <td>275050000</td>\n",
       "      <td>461.839996</td>\n",
       "      <td>0</td>\n",
       "      <td>0.997157</td>\n",
       "      <td>1.0</td>\n",
       "      <td>0.996617</td>\n",
       "      <td>1.0</td>\n",
       "      <td>1.000283</td>\n",
       "      <td>32.0</td>\n",
       "      <td>1.028047</td>\n",
       "      <td>127.0</td>\n",
       "      <td>1.176082</td>\n",
       "      <td>512.0</td>\n",
       "    </tr>\n",
       "    <tr>\n",
       "      <th>1993-12-15</th>\n",
       "      <td>463.059998</td>\n",
       "      <td>463.690002</td>\n",
       "      <td>461.839996</td>\n",
       "      <td>461.839996</td>\n",
       "      <td>331770000</td>\n",
       "      <td>463.339996</td>\n",
       "      <td>1</td>\n",
       "      <td>0.998681</td>\n",
       "      <td>0.0</td>\n",
       "      <td>0.995899</td>\n",
       "      <td>1.0</td>\n",
       "      <td>0.997329</td>\n",
       "      <td>32.0</td>\n",
       "      <td>1.025151</td>\n",
       "      <td>126.0</td>\n",
       "      <td>1.172676</td>\n",
       "      <td>512.0</td>\n",
       "    </tr>\n",
       "    <tr>\n",
       "      <th>1993-12-16</th>\n",
       "      <td>461.859985</td>\n",
       "      <td>463.980011</td>\n",
       "      <td>461.859985</td>\n",
       "      <td>463.339996</td>\n",
       "      <td>284620000</td>\n",
       "      <td>466.380005</td>\n",
       "      <td>1</td>\n",
       "      <td>1.001621</td>\n",
       "      <td>1.0</td>\n",
       "      <td>0.999495</td>\n",
       "      <td>2.0</td>\n",
       "      <td>1.000311</td>\n",
       "      <td>32.0</td>\n",
       "      <td>1.028274</td>\n",
       "      <td>127.0</td>\n",
       "      <td>1.176163</td>\n",
       "      <td>513.0</td>\n",
       "    </tr>\n",
       "    <tr>\n",
       "      <th>1993-12-17</th>\n",
       "      <td>463.339996</td>\n",
       "      <td>466.380005</td>\n",
       "      <td>463.339996</td>\n",
       "      <td>466.380005</td>\n",
       "      <td>363750000</td>\n",
       "      <td>465.850006</td>\n",
       "      <td>0</td>\n",
       "      <td>1.003270</td>\n",
       "      <td>2.0</td>\n",
       "      <td>1.004991</td>\n",
       "      <td>3.0</td>\n",
       "      <td>1.006561</td>\n",
       "      <td>32.0</td>\n",
       "      <td>1.034781</td>\n",
       "      <td>128.0</td>\n",
       "      <td>1.183537</td>\n",
       "      <td>514.0</td>\n",
       "    </tr>\n",
       "    <tr>\n",
       "      <th>1993-12-20</th>\n",
       "      <td>466.380005</td>\n",
       "      <td>466.899994</td>\n",
       "      <td>465.529999</td>\n",
       "      <td>465.850006</td>\n",
       "      <td>255900000</td>\n",
       "      <td>465.299988</td>\n",
       "      <td>0</td>\n",
       "      <td>0.999431</td>\n",
       "      <td>1.0</td>\n",
       "      <td>1.003784</td>\n",
       "      <td>2.0</td>\n",
       "      <td>1.005120</td>\n",
       "      <td>32.0</td>\n",
       "      <td>1.033359</td>\n",
       "      <td>128.0</td>\n",
       "      <td>1.181856</td>\n",
       "      <td>513.0</td>\n",
       "    </tr>\n",
       "    <tr>\n",
       "      <th>...</th>\n",
       "      <td>...</td>\n",
       "      <td>...</td>\n",
       "      <td>...</td>\n",
       "      <td>...</td>\n",
       "      <td>...</td>\n",
       "      <td>...</td>\n",
       "      <td>...</td>\n",
       "      <td>...</td>\n",
       "      <td>...</td>\n",
       "      <td>...</td>\n",
       "      <td>...</td>\n",
       "      <td>...</td>\n",
       "      <td>...</td>\n",
       "      <td>...</td>\n",
       "      <td>...</td>\n",
       "      <td>...</td>\n",
       "      <td>...</td>\n",
       "    </tr>\n",
       "    <tr>\n",
       "      <th>2022-09-06</th>\n",
       "      <td>3930.889893</td>\n",
       "      <td>3942.550049</td>\n",
       "      <td>3886.750000</td>\n",
       "      <td>3908.189941</td>\n",
       "      <td>2209800080</td>\n",
       "      <td>3979.870117</td>\n",
       "      <td>1</td>\n",
       "      <td>0.997948</td>\n",
       "      <td>0.0</td>\n",
       "      <td>0.989893</td>\n",
       "      <td>1.0</td>\n",
       "      <td>0.982136</td>\n",
       "      <td>26.0</td>\n",
       "      <td>0.902791</td>\n",
       "      <td>120.0</td>\n",
       "      <td>1.103594</td>\n",
       "      <td>542.0</td>\n",
       "    </tr>\n",
       "    <tr>\n",
       "      <th>2022-09-07</th>\n",
       "      <td>3909.429932</td>\n",
       "      <td>3987.889893</td>\n",
       "      <td>3906.030029</td>\n",
       "      <td>3979.870117</td>\n",
       "      <td>0</td>\n",
       "      <td>4006.179932</td>\n",
       "      <td>1</td>\n",
       "      <td>1.009087</td>\n",
       "      <td>1.0</td>\n",
       "      <td>1.008370</td>\n",
       "      <td>2.0</td>\n",
       "      <td>0.999819</td>\n",
       "      <td>27.0</td>\n",
       "      <td>0.919786</td>\n",
       "      <td>121.0</td>\n",
       "      <td>1.123489</td>\n",
       "      <td>543.0</td>\n",
       "    </tr>\n",
       "    <tr>\n",
       "      <th>2022-09-08</th>\n",
       "      <td>3959.939941</td>\n",
       "      <td>4010.500000</td>\n",
       "      <td>3944.810059</td>\n",
       "      <td>4006.179932</td>\n",
       "      <td>0</td>\n",
       "      <td>4067.360107</td>\n",
       "      <td>1</td>\n",
       "      <td>1.003294</td>\n",
       "      <td>2.0</td>\n",
       "      <td>1.012411</td>\n",
       "      <td>3.0</td>\n",
       "      <td>1.005349</td>\n",
       "      <td>28.0</td>\n",
       "      <td>0.926253</td>\n",
       "      <td>122.0</td>\n",
       "      <td>1.130564</td>\n",
       "      <td>543.0</td>\n",
       "    </tr>\n",
       "    <tr>\n",
       "      <th>2022-09-09</th>\n",
       "      <td>4022.939941</td>\n",
       "      <td>4076.810059</td>\n",
       "      <td>4022.939941</td>\n",
       "      <td>4067.360107</td>\n",
       "      <td>0</td>\n",
       "      <td>4107.279785</td>\n",
       "      <td>1</td>\n",
       "      <td>1.007578</td>\n",
       "      <td>2.0</td>\n",
       "      <td>1.022676</td>\n",
       "      <td>3.0</td>\n",
       "      <td>1.019287</td>\n",
       "      <td>29.0</td>\n",
       "      <td>0.940748</td>\n",
       "      <td>122.0</td>\n",
       "      <td>1.147454</td>\n",
       "      <td>543.0</td>\n",
       "    </tr>\n",
       "    <tr>\n",
       "      <th>2022-09-12</th>\n",
       "      <td>4083.669922</td>\n",
       "      <td>4119.279785</td>\n",
       "      <td>4083.669922</td>\n",
       "      <td>4107.279785</td>\n",
       "      <td>1602969000</td>\n",
       "      <td>NaN</td>\n",
       "      <td>0</td>\n",
       "      <td>1.004883</td>\n",
       "      <td>2.0</td>\n",
       "      <td>1.023296</td>\n",
       "      <td>4.0</td>\n",
       "      <td>1.027929</td>\n",
       "      <td>29.0</td>\n",
       "      <td>0.950276</td>\n",
       "      <td>123.0</td>\n",
       "      <td>1.158331</td>\n",
       "      <td>543.0</td>\n",
       "    </tr>\n",
       "  </tbody>\n",
       "</table>\n",
       "<p>7238 rows × 17 columns</p>\n",
       "</div>"
      ],
      "text/plain": [
       "                   Open         High          Low        Close      Volume  \\\n",
       "Date                                                                         \n",
       "1993-12-14   465.730011   466.119995   462.459991   463.059998   275050000   \n",
       "1993-12-15   463.059998   463.690002   461.839996   461.839996   331770000   \n",
       "1993-12-16   461.859985   463.980011   461.859985   463.339996   284620000   \n",
       "1993-12-17   463.339996   466.380005   463.339996   466.380005   363750000   \n",
       "1993-12-20   466.380005   466.899994   465.529999   465.850006   255900000   \n",
       "...                 ...          ...          ...          ...         ...   \n",
       "2022-09-06  3930.889893  3942.550049  3886.750000  3908.189941  2209800080   \n",
       "2022-09-07  3909.429932  3987.889893  3906.030029  3979.870117           0   \n",
       "2022-09-08  3959.939941  4010.500000  3944.810059  4006.179932           0   \n",
       "2022-09-09  4022.939941  4076.810059  4022.939941  4067.360107           0   \n",
       "2022-09-12  4083.669922  4119.279785  4083.669922  4107.279785  1602969000   \n",
       "\n",
       "               Tomorrow  Target  Close_Ratio_2  Trend_2  Close_Ratio_5  \\\n",
       "Date                                                                     \n",
       "1993-12-14   461.839996       0       0.997157      1.0       0.996617   \n",
       "1993-12-15   463.339996       1       0.998681      0.0       0.995899   \n",
       "1993-12-16   466.380005       1       1.001621      1.0       0.999495   \n",
       "1993-12-17   465.850006       0       1.003270      2.0       1.004991   \n",
       "1993-12-20   465.299988       0       0.999431      1.0       1.003784   \n",
       "...                 ...     ...            ...      ...            ...   \n",
       "2022-09-06  3979.870117       1       0.997948      0.0       0.989893   \n",
       "2022-09-07  4006.179932       1       1.009087      1.0       1.008370   \n",
       "2022-09-08  4067.360107       1       1.003294      2.0       1.012411   \n",
       "2022-09-09  4107.279785       1       1.007578      2.0       1.022676   \n",
       "2022-09-12          NaN       0       1.004883      2.0       1.023296   \n",
       "\n",
       "            Trend_5  Close_Ratio_60  Trend_60  Close_Ratio_250  Trend_250  \\\n",
       "Date                                                                        \n",
       "1993-12-14      1.0        1.000283      32.0         1.028047      127.0   \n",
       "1993-12-15      1.0        0.997329      32.0         1.025151      126.0   \n",
       "1993-12-16      2.0        1.000311      32.0         1.028274      127.0   \n",
       "1993-12-17      3.0        1.006561      32.0         1.034781      128.0   \n",
       "1993-12-20      2.0        1.005120      32.0         1.033359      128.0   \n",
       "...             ...             ...       ...              ...        ...   \n",
       "2022-09-06      1.0        0.982136      26.0         0.902791      120.0   \n",
       "2022-09-07      2.0        0.999819      27.0         0.919786      121.0   \n",
       "2022-09-08      3.0        1.005349      28.0         0.926253      122.0   \n",
       "2022-09-09      3.0        1.019287      29.0         0.940748      122.0   \n",
       "2022-09-12      4.0        1.027929      29.0         0.950276      123.0   \n",
       "\n",
       "            Close_Ratio_1000  Trend_1000  \n",
       "Date                                      \n",
       "1993-12-14          1.176082       512.0  \n",
       "1993-12-15          1.172676       512.0  \n",
       "1993-12-16          1.176163       513.0  \n",
       "1993-12-17          1.183537       514.0  \n",
       "1993-12-20          1.181856       513.0  \n",
       "...                      ...         ...  \n",
       "2022-09-06          1.103594       542.0  \n",
       "2022-09-07          1.123489       543.0  \n",
       "2022-09-08          1.130564       543.0  \n",
       "2022-09-09          1.147454       543.0  \n",
       "2022-09-12          1.158331       543.0  \n",
       "\n",
       "[7238 rows x 17 columns]"
      ]
     },
     "execution_count": 51,
     "metadata": {},
     "output_type": "execute_result"
    }
   ],
   "source": [
    "sp500"
   ]
  },
  {
   "cell_type": "code",
   "execution_count": 52,
   "id": "283be581-dbe1-4f02-8851-ff1a027b4104",
   "metadata": {},
   "outputs": [],
   "source": [
    "model = RandomForestClassifier(n_estimators=200, min_samples_split=50, random_state=1)"
   ]
  },
  {
   "cell_type": "code",
   "execution_count": 53,
   "id": "a843303c-a247-4f6d-9505-cc711ca95afa",
   "metadata": {},
   "outputs": [],
   "source": [
    "def predict(train, test, predictors, model):\n",
    "    model.fit(train[predictors], train[\"Target\"])\n",
    "    preds = model.predict_proba(test[predictors])[:,1]\n",
    "    preds[preds >=.6] = 1\n",
    "    preds[preds <.6] = 0\n",
    "    preds = pd.Series(preds, index=test.index, name=\"Predictions\")\n",
    "    combined = pd.concat([test[\"Target\"], preds], axis=1)\n",
    "    return combined"
   ]
  },
  {
   "cell_type": "code",
   "execution_count": 54,
   "id": "fb820946-1275-4914-b6a8-355e96f315b6",
   "metadata": {},
   "outputs": [],
   "source": [
    "predictions = backtest(sp500, model, new_predictors)"
   ]
  },
  {
   "cell_type": "code",
   "execution_count": 55,
   "id": "a73e1816-283a-47ac-af43-4550b80307ef",
   "metadata": {},
   "outputs": [
    {
     "data": {
      "text/plain": [
       "Predictions\n",
       "0.0    3933\n",
       "1.0     805\n",
       "Name: count, dtype: int64"
      ]
     },
     "execution_count": 55,
     "metadata": {},
     "output_type": "execute_result"
    }
   ],
   "source": [
    "predictions[\"Predictions\"].value_counts()"
   ]
  },
  {
   "cell_type": "code",
   "execution_count": 56,
   "id": "14acc336-4991-4189-bb16-4a8bf53056e1",
   "metadata": {},
   "outputs": [
    {
     "data": {
      "text/plain": [
       "0.5701863354037268"
      ]
     },
     "execution_count": 56,
     "metadata": {},
     "output_type": "execute_result"
    }
   ],
   "source": [
    "precision_score(predictions[\"Target\"], predictions[\"Predictions\"])"
   ]
  },
  {
   "cell_type": "code",
   "execution_count": 57,
   "id": "21b3d365-2157-4229-a785-ae687da0f21f",
   "metadata": {},
   "outputs": [
    {
     "data": {
      "text/plain": [
       "Target\n",
       "1    0.546855\n",
       "0    0.453145\n",
       "Name: count, dtype: float64"
      ]
     },
     "execution_count": 57,
     "metadata": {},
     "output_type": "execute_result"
    }
   ],
   "source": [
    "predictions[\"Target\"].value_counts() / predictions.shape[0]"
   ]
  },
  {
   "cell_type": "code",
   "execution_count": 58,
   "id": "ef08fff5-0dd5-4d86-9d0d-8ce9f7443865",
   "metadata": {},
   "outputs": [
    {
     "data": {
      "text/html": [
       "<div>\n",
       "<style scoped>\n",
       "    .dataframe tbody tr th:only-of-type {\n",
       "        vertical-align: middle;\n",
       "    }\n",
       "\n",
       "    .dataframe tbody tr th {\n",
       "        vertical-align: top;\n",
       "    }\n",
       "\n",
       "    .dataframe thead th {\n",
       "        text-align: right;\n",
       "    }\n",
       "</style>\n",
       "<table border=\"1\" class=\"dataframe\">\n",
       "  <thead>\n",
       "    <tr style=\"text-align: right;\">\n",
       "      <th></th>\n",
       "      <th>Target</th>\n",
       "      <th>Predictions</th>\n",
       "    </tr>\n",
       "    <tr>\n",
       "      <th>Date</th>\n",
       "      <th></th>\n",
       "      <th></th>\n",
       "    </tr>\n",
       "  </thead>\n",
       "  <tbody>\n",
       "    <tr>\n",
       "      <th>2003-11-14</th>\n",
       "      <td>0</td>\n",
       "      <td>0.0</td>\n",
       "    </tr>\n",
       "    <tr>\n",
       "      <th>2003-11-17</th>\n",
       "      <td>0</td>\n",
       "      <td>1.0</td>\n",
       "    </tr>\n",
       "    <tr>\n",
       "      <th>2003-11-18</th>\n",
       "      <td>1</td>\n",
       "      <td>1.0</td>\n",
       "    </tr>\n",
       "    <tr>\n",
       "      <th>2003-11-19</th>\n",
       "      <td>0</td>\n",
       "      <td>0.0</td>\n",
       "    </tr>\n",
       "    <tr>\n",
       "      <th>2003-11-20</th>\n",
       "      <td>1</td>\n",
       "      <td>1.0</td>\n",
       "    </tr>\n",
       "    <tr>\n",
       "      <th>...</th>\n",
       "      <td>...</td>\n",
       "      <td>...</td>\n",
       "    </tr>\n",
       "    <tr>\n",
       "      <th>2022-09-06</th>\n",
       "      <td>1</td>\n",
       "      <td>0.0</td>\n",
       "    </tr>\n",
       "    <tr>\n",
       "      <th>2022-09-07</th>\n",
       "      <td>1</td>\n",
       "      <td>0.0</td>\n",
       "    </tr>\n",
       "    <tr>\n",
       "      <th>2022-09-08</th>\n",
       "      <td>1</td>\n",
       "      <td>0.0</td>\n",
       "    </tr>\n",
       "    <tr>\n",
       "      <th>2022-09-09</th>\n",
       "      <td>1</td>\n",
       "      <td>0.0</td>\n",
       "    </tr>\n",
       "    <tr>\n",
       "      <th>2022-09-12</th>\n",
       "      <td>0</td>\n",
       "      <td>0.0</td>\n",
       "    </tr>\n",
       "  </tbody>\n",
       "</table>\n",
       "<p>4738 rows × 2 columns</p>\n",
       "</div>"
      ],
      "text/plain": [
       "            Target  Predictions\n",
       "Date                           \n",
       "2003-11-14       0          0.0\n",
       "2003-11-17       0          1.0\n",
       "2003-11-18       1          1.0\n",
       "2003-11-19       0          0.0\n",
       "2003-11-20       1          1.0\n",
       "...            ...          ...\n",
       "2022-09-06       1          0.0\n",
       "2022-09-07       1          0.0\n",
       "2022-09-08       1          0.0\n",
       "2022-09-09       1          0.0\n",
       "2022-09-12       0          0.0\n",
       "\n",
       "[4738 rows x 2 columns]"
      ]
     },
     "execution_count": 58,
     "metadata": {},
     "output_type": "execute_result"
    }
   ],
   "source": [
    "predictions"
   ]
  },
  {
   "cell_type": "code",
   "execution_count": null,
   "id": "b2d35fd3-7038-4e69-bcbd-bde42c1f5e33",
   "metadata": {},
   "outputs": [],
   "source": []
  }
 ],
 "metadata": {
  "kernelspec": {
   "display_name": "Python 3 (ipykernel)",
   "language": "python",
   "name": "python3"
  },
  "language_info": {
   "codemirror_mode": {
    "name": "ipython",
    "version": 3
   },
   "file_extension": ".py",
   "mimetype": "text/x-python",
   "name": "python",
   "nbconvert_exporter": "python",
   "pygments_lexer": "ipython3",
   "version": "3.9.13"
  }
 },
 "nbformat": 4,
 "nbformat_minor": 5
}
